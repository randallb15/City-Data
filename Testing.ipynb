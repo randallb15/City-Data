{
 "cells": [
  {
   "cell_type": "code",
   "execution_count": 1,
   "metadata": {},
   "outputs": [
    {
     "name": "stdout",
     "output_type": "stream",
     "text": [
      "{'help': 'https://data.sanantonio.gov/api/3/action/help_show?name=datastore_search', 'success': True, 'result': {'include_total': True, 'resource_id': 'c21106f9-3ef5-4f3a-8604-f992b4db7512', 'fields': [{'type': 'int', 'id': '_id'}, {'type': 'text', 'id': 'PERMIT TYPE'}, {'type': 'text', 'id': 'PERMIT #'}, {'type': 'text', 'id': 'PERMIT NAME'}, {'type': 'text', 'id': 'WORK TYPE'}, {'type': 'text', 'id': 'ADDRESS'}, {'type': 'text', 'id': 'LOCATION'}, {'type': 'text', 'id': 'X_COORD'}, {'type': 'text', 'id': 'Y_COORD'}, {'type': 'text', 'id': 'DATE SUBMITTED'}, {'type': 'text', 'id': 'DATE ISSUED'}, {'type': 'text', 'id': 'DECLARED VALUATION'}, {'type': 'text', 'id': 'AREA (SF)'}, {'type': 'text', 'id': 'PRIMARY CONTACT'}, {'type': 'text', 'id': 'CD'}, {'type': 'text', 'id': 'NCD'}, {'type': 'text', 'id': 'HD'}, {'type': 'float', 'id': 'rank'}], 'records_format': 'objects', 'q': 'title:jones', 'records': [], 'limit': 5, '_links': {'start': '/api/3/action/datastore_search?q=title%3Ajones&limit=5&resource_id=c21106f9-3ef5-4f3a-8604-f992b4db7512', 'next': '/api/3/action/datastore_search?q=title%3Ajones&offset=5&limit=5&resource_id=c21106f9-3ef5-4f3a-8604-f992b4db7512'}, 'total': 0}}\n"
     ]
    }
   ],
   "source": [
    "import json\n",
    "import urllib.request\n",
    "url = 'https://data.sanantonio.gov/api/3/action/datastore_search?resource_id=c21106f9-3ef5-4f3a-8604-f992b4db7512&limit=5&q=title:jones'  \n",
    "fileobj = urllib.request.urlopen(url)\n",
    "response_dict = json.loads(fileobj.read())\n",
    "print(response_dict)"
   ]
  },
  {
   "cell_type": "code",
   "execution_count": 2,
   "metadata": {},
   "outputs": [],
   "source": [
    "import pandas as pd"
   ]
  },
  {
   "cell_type": "code",
   "execution_count": 3,
   "metadata": {},
   "outputs": [],
   "source": [
    "housing_inventory = pd.read_stata('116215-V1/housing_inventory/clean_combined.dta')"
   ]
  },
  {
   "cell_type": "code",
   "execution_count": 6,
   "metadata": {},
   "outputs": [],
   "source": [
    "census_df = pd.read_stata('116215-V1/census/usa_00012.dta')"
   ]
  },
  {
   "cell_type": "code",
   "execution_count": 8,
   "metadata": {},
   "outputs": [
    {
     "name": "stdout",
     "output_type": "stream",
     "text": [
      "<class 'pandas.core.frame.DataFrame'>\n",
      "Int64Index: 29644204 entries, 0 to 29644203\n",
      "Data columns (total 57 columns):\n",
      " #   Column      Dtype   \n",
      "---  ------      -----   \n",
      " 0   year        category\n",
      " 1   datanum     int8    \n",
      " 2   serial      int32   \n",
      " 3   hhwt        int16   \n",
      " 4   cpi99       float64 \n",
      " 5   region      category\n",
      " 6   statefip    category\n",
      " 7   countyfips  int16   \n",
      " 8   metarea     category\n",
      " 9   metaread    category\n",
      " 10  met2013     category\n",
      " 11  city        category\n",
      " 12  puma        int32   \n",
      " 13  pumasupr    float64 \n",
      " 14  gq          category\n",
      " 15  ownershp    category\n",
      " 16  ownershpd   category\n",
      " 17  mortgage    category\n",
      " 18  rent        int16   \n",
      " 19  rentgrs     int16   \n",
      " 20  hhincome    int32   \n",
      " 21  valueh      int32   \n",
      " 22  rooms       category\n",
      " 23  builtyr     category\n",
      " 24  builtyr2    category\n",
      " 25  unitsstr    category\n",
      " 26  bedrooms    category\n",
      " 27  pernum      int8    \n",
      " 28  perwt       int16   \n",
      " 29  relate      category\n",
      " 30  related     category\n",
      " 31  sex         category\n",
      " 32  age         category\n",
      " 33  race        category\n",
      " 34  raced       category\n",
      " 35  hispan      category\n",
      " 36  hispand     category\n",
      " 37  bpl         category\n",
      " 38  bpld        category\n",
      " 39  citizen     category\n",
      " 40  racesing    category\n",
      " 41  racesingd   category\n",
      " 42  educ        category\n",
      " 43  educd       category\n",
      " 44  empstat     category\n",
      " 45  empstatd    category\n",
      " 46  ind         int16   \n",
      " 47  ind1990     category\n",
      " 48  wkswork1    float64 \n",
      " 49  wkswork2    category\n",
      " 50  uhrswork    category\n",
      " 51  inctot      int32   \n",
      " 52  incwage     int32   \n",
      " 53  incbus      float64 \n",
      " 54  incbus00    float64 \n",
      " 55  incfarm     float64 \n",
      " 56  trantime    int16   \n",
      "dtypes: category(36), float64(6), int16(7), int32(6), int8(2)\n",
      "memory usage: 3.9 GB\n"
     ]
    }
   ],
   "source": [
    "census_df.info()"
   ]
  },
  {
   "cell_type": "code",
   "execution_count": null,
   "metadata": {},
   "outputs": [],
   "source": []
  }
 ],
 "metadata": {
  "kernelspec": {
   "display_name": "Python 3",
   "language": "python",
   "name": "python3"
  },
  "language_info": {
   "codemirror_mode": {
    "name": "ipython",
    "version": 3
   },
   "file_extension": ".py",
   "mimetype": "text/x-python",
   "name": "python",
   "nbconvert_exporter": "python",
   "pygments_lexer": "ipython3",
   "version": "3.8.5"
  }
 },
 "nbformat": 4,
 "nbformat_minor": 4
}
